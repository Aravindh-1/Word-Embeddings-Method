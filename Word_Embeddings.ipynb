{
  "cells": [
    {
      "cell_type": "code",
      "source": [
        "data= open(\"/content/004.txt\",\"r\")"
      ],
      "metadata": {
        "id": "Y88-abKInbPt"
      },
      "execution_count": 1,
      "outputs": []
    },
    {
      "cell_type": "code",
      "source": [
        "chars=sorted(list(set(data.read())))"
      ],
      "metadata": {
        "id": "HRh98Orpn_Nx"
      },
      "execution_count": 2,
      "outputs": []
    },
    {
      "cell_type": "code",
      "source": [
        "data_join=''.join(chars)\n",
        "data_join"
      ],
      "metadata": {
        "id": "GlKA53BwpNKa",
        "outputId": "ed53a6c6-7079-41f6-979d-d41d736e6474",
        "colab": {
          "base_uri": "https://localhost:8080/",
          "height": 35
        }
      },
      "execution_count": 3,
      "outputs": [
        {
          "output_type": "execute_result",
          "data": {
            "text/plain": [
              "'\\n \"$%\\'(),-.0123456789ABCDEFHIJKLMNOPRSTUVWYabcdefghijklmnopqrstuvwxy£'"
            ],
            "application/vnd.google.colaboratory.intrinsic+json": {
              "type": "string"
            }
          },
          "metadata": {},
          "execution_count": 3
        }
      ]
    },
    {
      "cell_type": "code",
      "source": [
        "size=len(chars)"
      ],
      "metadata": {
        "id": "RuADi22ppP84"
      },
      "execution_count": 4,
      "outputs": []
    },
    {
      "cell_type": "code",
      "source": [
        "size"
      ],
      "metadata": {
        "id": "mpayCysfpkGY",
        "outputId": "861393f2-8d70-4c9e-9ccf-2d0cb201cb8e",
        "colab": {
          "base_uri": "https://localhost:8080/"
        }
      },
      "execution_count": 5,
      "outputs": [
        {
          "output_type": "execute_result",
          "data": {
            "text/plain": [
              "69"
            ]
          },
          "metadata": {},
          "execution_count": 5
        }
      ]
    },
    {
      "cell_type": "markdown",
      "source": [
        "Encoding and Deocding the String"
      ],
      "metadata": {
        "id": "xhFQeTjDux-R"
      }
    },
    {
      "cell_type": "code",
      "source": [
        "string=\"hii there\"\n",
        "encoded = [ord(c) for c in string]\n",
        "print(encoded)"
      ],
      "metadata": {
        "id": "jl32qgiFpli4",
        "outputId": "c9d347db-9df8-4eaf-aef7-ae901ee49983",
        "colab": {
          "base_uri": "https://localhost:8080/"
        }
      },
      "execution_count": 6,
      "outputs": [
        {
          "output_type": "stream",
          "name": "stdout",
          "text": [
            "[104, 105, 105, 32, 116, 104, 101, 114, 101]\n"
          ]
        }
      ]
    },
    {
      "cell_type": "code",
      "source": [
        "decoded = [chr(c) for c in encoded]\n",
        "print(\"\".join(decoded))"
      ],
      "metadata": {
        "id": "FpATOz3KvHXR",
        "outputId": "b1282a1e-847a-4515-aa4d-c769fcf84120",
        "colab": {
          "base_uri": "https://localhost:8080/"
        }
      },
      "execution_count": 7,
      "outputs": [
        {
          "output_type": "stream",
          "name": "stdout",
          "text": [
            "hii there\n"
          ]
        }
      ]
    },
    {
      "cell_type": "code",
      "source": [
        "stringer=\"hi there\"\n",
        "l=[]\n",
        "for c in stringer:\n",
        "  l.append(ord(c))\n",
        "print(l)\n"
      ],
      "metadata": {
        "id": "0ByOBqwvvfFz",
        "outputId": "1f7c9d88-5fb6-4ac7-d537-3886cc37697d",
        "colab": {
          "base_uri": "https://localhost:8080/"
        }
      },
      "execution_count": 8,
      "outputs": [
        {
          "output_type": "stream",
          "name": "stdout",
          "text": [
            "[104, 105, 32, 116, 104, 101, 114, 101]\n"
          ]
        }
      ]
    },
    {
      "cell_type": "markdown",
      "source": [
        "Encoding the whole data and print the encoded data"
      ],
      "metadata": {
        "id": "9eYcauKiw1e8"
      }
    },
    {
      "cell_type": "code",
      "source": [
        "with open(\"004.txt\",\"r\") as f:\n",
        "  text=f.read()\n"
      ],
      "metadata": {
        "id": "IHAexau6wSOQ"
      },
      "execution_count": 9,
      "outputs": []
    },
    {
      "cell_type": "code",
      "source": [
        "text"
      ],
      "metadata": {
        "id": "NthXZeUQxXwP",
        "outputId": "d911209a-8c34-47c7-aad6-2e89c4c96027",
        "colab": {
          "base_uri": "https://localhost:8080/",
          "height": 191
        }
      },
      "execution_count": 10,
      "outputs": [
        {
          "output_type": "execute_result",
          "data": {
            "text/plain": [
              "'High fuel prices hit BA\\'s profits\\n\\nBritish Airways has blamed high fuel prices for a 40% drop in profits.\\n\\nReporting its results for the three months to 31 December 2004, the airline made a pre-tax profit of £75m ($141m) compared with £125m a year earlier. Rod Eddington, BA\\'s chief executive, said the results were \"respectable\" in a third quarter when fuel costs rose by £106m or 47.3%. BA\\'s profits were still better than market expectation of £59m, and it expects a rise in full-year revenues.\\n\\nTo help offset the increased price of aviation fuel, BA last year introduced a fuel surcharge for passengers.\\n\\nIn October, it increased this from £6 to £10 one-way for all long-haul flights, while the short-haul surcharge was raised from £2.50 to £4 a leg. Yet aviation analyst Mike Powell of Dresdner Kleinwort Wasserstein says BA\\'s estimated annual surcharge revenues - £160m - will still be way short of its additional fuel costs - a predicted extra £250m. Turnover for the quarter was up 4.3% to £1.97bn, further benefiting from a rise in cargo revenue. Looking ahead to its full year results to March 2005, BA warned that yields - average revenues per passenger - were expected to decline as it continues to lower prices in the face of competition from low-cost carriers. However, it said sales would be better than previously forecast. \"For the year to March 2005, the total revenue outlook is slightly better than previous guidance with a 3% to 3.5% improvement anticipated,\" BA chairman Martin Broughton said. BA had previously forecast a 2% to 3% rise in full-year revenue.\\n\\nIt also reported on Friday that passenger numbers rose 8.1% in January. Aviation analyst Nick Van den Brul of BNP Paribas described BA\\'s latest quarterly results as \"pretty modest\". \"It is quite good on the revenue side and it shows the impact of fuel surcharges and a positive cargo development, however, operating margins down and cost impact of fuel are very strong,\" he said. Since the 11 September 2001 attacks in the United States, BA has cut 13,000 jobs as part of a major cost-cutting drive. \"Our focus remains on reducing controllable costs and debt whilst continuing to invest in our products,\" Mr Eddington said. \"For example, we have taken delivery of six Airbus A321 aircraft and next month we will start further improvements to our Club World flat beds.\" BA\\'s shares closed up four pence at 274.5 pence.\\n'"
            ],
            "application/vnd.google.colaboratory.intrinsic+json": {
              "type": "string"
            }
          },
          "metadata": {},
          "execution_count": 10
        }
      ]
    },
    {
      "cell_type": "code",
      "source": [
        "char=sorted(list(set(text)))\n",
        "char=\"\".join(char)\n",
        "print(char)"
      ],
      "metadata": {
        "colab": {
          "base_uri": "https://localhost:8080/"
        },
        "id": "ZGXa-EwG1oMA",
        "outputId": "0d42e64c-97ed-45da-b100-8756477e6ae9"
      },
      "execution_count": 17,
      "outputs": [
        {
          "output_type": "stream",
          "name": "stdout",
          "text": [
            "\n",
            " \"$%'(),-.0123456789ABCDEFHIJKLMNOPRSTUVWYabcdefghijklmnopqrstuvwxy£\n"
          ]
        }
      ]
    },
    {
      "cell_type": "code",
      "source": [
        "st={ch:i for i,ch in enumerate(char)}\n",
        "it={i:ch for i,ch in enumerate(char)}\n",
        "encode= lambda s: [st[c] for c in s]\n",
        "decode= lambda l: \"\".join([it[i] for i in l])\n",
        "strr=\"hi there\"\n",
        "print(encode(strr))\n",
        "print(decode(encode(strr)))"
      ],
      "metadata": {
        "colab": {
          "base_uri": "https://localhost:8080/"
        },
        "id": "ggaQuwKg2InC",
        "outputId": "cc18e1f0-65cc-4fef-edfb-108f2e06cfd7"
      },
      "execution_count": 25,
      "outputs": [
        {
          "output_type": "stream",
          "name": "stdout",
          "text": [
            "[50, 51, 1, 62, 50, 47, 60, 47]\n",
            "hi there\n"
          ]
        }
      ]
    }
  ],
  "metadata": {
    "colab": {
      "provenance": []
    },
    "kernelspec": {
      "display_name": "Python 3",
      "name": "python3"
    }
  },
  "nbformat": 4,
  "nbformat_minor": 0
}